{
 "cells": [
  {
   "cell_type": "markdown",
   "id": "3620a195",
   "metadata": {},
   "source": [
    "# Урок 1. Задания."
   ]
  },
  {
   "cell_type": "markdown",
   "id": "cf96a26e",
   "metadata": {},
   "source": [
    "### Задание 1\n",
    "Начнём с простого: сохраните в переменную age произвольный возраст, выраженный целым числом, а в переменную name – какое-нибудь имя в виде строки."
   ]
  },
  {
   "cell_type": "code",
   "execution_count": 1,
   "id": "71236647",
   "metadata": {},
   "outputs": [],
   "source": [
    "age = 20\n",
    "name = 'Olga'"
   ]
  },
  {
   "cell_type": "markdown",
   "id": "fd9d553d",
   "metadata": {},
   "source": [
    "### Задание 2\n",
    "Создайте список user_info, содержащий 4 элемента:\n",
    "\n",
    "2 строки (имя и фамилия пользователя)\n",
    "\n",
    "1 дробное число (зарплата)\n",
    "\n",
    "1 целое число (стаж)"
   ]
  },
  {
   "cell_type": "code",
   "execution_count": 2,
   "id": "d1e4b0cb",
   "metadata": {},
   "outputs": [],
   "source": [
    "user_info = ['Alex', 'Sorokin', 60000.0, 1]"
   ]
  },
  {
   "cell_type": "markdown",
   "id": "24b44d49",
   "metadata": {},
   "source": [
    "### Задание 3\n",
    "Поместите в переменную first первый (т.е. нулевой) элемент из списка salaries. Сам список создавать не нужно, он уже находится в переменной salaries.\n",
    "\n",
    "Пример данных, которые могут в нем быть:\n",
    "\n",
    "[42, 100, 70, 80]"
   ]
  },
  {
   "cell_type": "code",
   "execution_count": 15,
   "id": "e5287406",
   "metadata": {},
   "outputs": [],
   "source": [
    "salaries = [42, 100, 70, 80]\n",
    "\n",
    "first = salaries[0]"
   ]
  },
  {
   "cell_type": "markdown",
   "id": "5916968f",
   "metadata": {},
   "source": [
    "### Задание 4\n",
    "Добавьте в уже созданный список users элементы 'Voronov' и 42.\n",
    "\n",
    "Сам список создавать не нужно, он уже находится в переменной users."
   ]
  },
  {
   "cell_type": "code",
   "execution_count": 13,
   "id": "b9383638",
   "metadata": {},
   "outputs": [],
   "source": [
    "users = []\n",
    "users.append('Voronov')\n",
    "users.append(42)"
   ]
  },
  {
   "cell_type": "markdown",
   "id": "43cb2364",
   "metadata": {},
   "source": [
    "### Задание 5\n",
    "В переменной user_ages содержится список возрастов клиентов. Напишите цикл, выводящий на печать элементы больше 18.\n",
    "\n",
    "Пример данных, которые могут быть в user_ages:\n",
    "\n",
    "user_ages = [10, 18, 21, 35, 42, 27, 12, 16]"
   ]
  },
  {
   "cell_type": "code",
   "execution_count": 14,
   "id": "5777fab1",
   "metadata": {},
   "outputs": [
    {
     "name": "stdout",
     "output_type": "stream",
     "text": [
      "21\n",
      "35\n",
      "42\n",
      "27\n"
     ]
    }
   ],
   "source": [
    "user_ages = [10, 18, 21, 35, 42, 27, 12, 16]\n",
    "\n",
    "for i in user_ages:\n",
    "    if i > 18:\n",
    "        print(i)"
   ]
  },
  {
   "cell_type": "markdown",
   "id": "15ca1ba1",
   "metadata": {},
   "source": [
    "### Задание 6\n",
    "Напишите программу, проверяющую стаж работы сотрудника. В переменной worker содержится список, содержащий значения как во 2-м задании (имя, фамилия, зарплата, стаж). Поместите в переменную status следующую строку:\n",
    "\n",
    "user_name user_family is position\n",
    "\n",
    "где user_name и user_family — имя и фамилия сотрудника, а position — одно из следующих значений:\n",
    "\n",
    "'junior' — стаж меньше 2 лет\n",
    "\n",
    "'middle' — стаж больше либо равен 2 лет\n",
    "\n",
    "'senior' — стаж больше 5 лет \n",
    "\n",
    "Пример данных, которые могут быть в worker:\n",
    "\n",
    "worker = ['Olya', 'Silyutina', 350000, 3]\n",
    "\n"
   ]
  },
  {
   "cell_type": "code",
   "execution_count": 17,
   "id": "e6f521f0",
   "metadata": {},
   "outputs": [
    {
     "data": {
      "text/plain": [
       "'Olya Silyutina is middle'"
      ]
     },
     "execution_count": 17,
     "metadata": {},
     "output_type": "execute_result"
    }
   ],
   "source": [
    "worker = ['Olya', 'Silyutina', 350000, 3]\n",
    "\n",
    "if worker[-1] < 2:\n",
    "    position = 'junior'\n",
    "elif worker[-1] > 5:\n",
    "    position = 'senior'\n",
    "else:\n",
    "    position = 'middle'\n",
    "\n",
    "status = '{} {} is {}'.format(worker[0], worker[1], position)"
   ]
  },
  {
   "cell_type": "markdown",
   "id": "78175276",
   "metadata": {},
   "source": [
    "### Задание 7\n",
    "В списке values содержатся числовые значения. Создайте список tens и добавьте в него все числа из values, которые делятся на 10 нацело.\n",
    "\n",
    "Пример данных, которые могут быть в values:\n",
    "\n",
    "values = [12, 134, 10, 47, 100, 20, 50, 160, 210]"
   ]
  },
  {
   "cell_type": "code",
   "execution_count": 19,
   "id": "7af04f51",
   "metadata": {},
   "outputs": [],
   "source": [
    "values = [12, 134, 10, 47, 100, 20, 50, 160, 210]\n",
    "\n",
    "tens = []\n",
    "for i in values:\n",
    "    if i % 10 == 0:\n",
    "        tens.append(i)"
   ]
  },
  {
   "cell_type": "markdown",
   "id": "cd9dc691",
   "metadata": {},
   "source": [
    "### Задание 8\n",
    "Реализуйте цикл, который пробегается по уже созданному списку workers со значениями как в 2-м и 6-м заданиях и выводит для каждого сотрудника следующую строку (то есть печатает её для каждого элемента списка):\n",
    "\n",
    "user_name user_family is position\n",
    "\n",
    "где user_name и user_family — имя и фамилия сотрудника, а position — одна из следующих строк:\n",
    "\n",
    "'junior' — стаж меньше 2 лет\n",
    "\n",
    "'middle' — стаж больше либо равен 2\n",
    "\n",
    "\n",
    "'senior' — стаж строго больше 5 лет \n",
    "Пример данных, которые могут быть в workers:\n",
    "\n",
    "workers = [['Ivan', 'Ivanov', 100000, 2], ['Petr', 'Petrov', 150000, 2], ['Sidor', 'Sidorov', 200000, 3]]"
   ]
  },
  {
   "cell_type": "code",
   "execution_count": 23,
   "id": "b6ff12f8",
   "metadata": {},
   "outputs": [
    {
     "name": "stdout",
     "output_type": "stream",
     "text": [
      "Ivan Ivanov is middle\n",
      "Petr Petrov is middle\n",
      "Sidor Sidorov is middle\n"
     ]
    }
   ],
   "source": [
    "workers = [['Ivan', 'Ivanov', 100000, 2], ['Petr', 'Petrov', 150000, 2], ['Sidor', 'Sidorov', 200000, 3]]\n",
    "\n",
    "for i in workers: # пробегаем по каждому элементу (списку) списка workers\n",
    "    if i[-1] < 2:\n",
    "        position = 'junior'\n",
    "    elif i[-1] > 5:\n",
    "        position = 'senior'\n",
    "    else:\n",
    "        position = 'middle'\n",
    "        \n",
    "    print('{} {} is {}'.format(i[0], i[1], position))\n"
   ]
  },
  {
   "cell_type": "markdown",
   "id": "aa88c028",
   "metadata": {},
   "source": [
    "### Задание 9\n",
    "Поместите в список lst числа от 0 (n = 0) до 10 включительно (N = 10) c шагом 2 (dn = 2). Для этого используйте условие while."
   ]
  },
  {
   "cell_type": "code",
   "execution_count": 27,
   "id": "acaa2a12",
   "metadata": {},
   "outputs": [],
   "source": [
    "n = 0 # старт-значение\n",
    "N = 10 # стоп-значение\n",
    "dn = 2 # шаг\n",
    "\n",
    "lst = []\n",
    "\n",
    "while n <= N:\n",
    "    lst.append(n)\n",
    "    n += dn"
   ]
  },
  {
   "cell_type": "markdown",
   "id": "d6256ef2",
   "metadata": {},
   "source": [
    "### Задание 10\n",
    "На предыдущих шагах вы сталкивались с различными характеристиками пользователей, которые были сохранены в списках. Теперь попробуем собрать нужную информацию в словарь!\n",
    "\n",
    "Начнем с небольшого, где:\n",
    "\n",
    "ключом будет название характеристики, значением – её значение\n",
    "\n",
    "В словарь поместите следующую информацию:\n",
    "\n",
    "характеристика - значение\n",
    "\n",
    "name - Masha\n",
    "\n",
    "surname - Volkova\n",
    "\n",
    "age - 25\n",
    "\n",
    "salary - 60000\n",
    "\n",
    "position - junior\n",
    "\n",
    "Результат сохраните в переменную salaries_dict."
   ]
  },
  {
   "cell_type": "code",
   "execution_count": 29,
   "id": "cbc7bfdc",
   "metadata": {},
   "outputs": [],
   "source": [
    "salaries_dict = {'name': 'Masha', 'surname': 'Volkova', 'age': 25, 'salary': 60000, 'position': 'junior'}"
   ]
  },
  {
   "cell_type": "markdown",
   "id": "ea9a9c57",
   "metadata": {},
   "source": [
    "### Задание 11\n",
    "Теперь усложним задачу. Создайте словарь, где:\n",
    "\n",
    "Ключом будет логин пользователя (login)\n",
    "\n",
    "В качестве значения – словарь с характеристиками (как на предыдущем шаге) для этого пользователя\n",
    "\n",
    "login\tname\tsurname\tage\tsalary\tposition\n",
    "\n",
    "mvolkova\tMasha\tVolkova\t25\t60000\tjunior\n",
    "\n",
    "pvoronov\tPeter\tVoronov\t27\t100000\tjunior\n",
    "\n",
    "pparker\tPeter\tParker\t35\t150000\tmiddle\n",
    "\n",
    "akarpov\tAnatoly\tKarpov\t30\t250000\tsenior\n",
    "\n",
    "Таким образом, по ключу мы сможем получить всю информацию о нужном пользователе. Обратиться к такому элементу можно, например, с помощью: users_dict['mvolkova']['name'], где в первых скобках указывается логин (первый ключ), а во вторых – название характеристики, значение которой мы хотим получить.\n",
    "\n",
    "Пример итоговой структуры:\n",
    "\n",
    "{ 'masha_volkova' : {'name' : 'Masha', ...}, 'peter_voronov' : {'name' : 'Peter', ...}, ... }\n",
    "\n",
    "Результат запишите в переменную users_dict."
   ]
  },
  {
   "cell_type": "code",
   "execution_count": 31,
   "id": "3674cd1f",
   "metadata": {},
   "outputs": [],
   "source": [
    "users_dict = {'mvolkova': {'name': 'Masha', 'surname': 'Volkova', 'age': 25, 'salary': 60000, 'position': 'junior'},\n",
    "              'pvoronov': {'name': 'Peter', 'surname': 'Voronov', 'age': 27, 'salary': 100000, 'position': 'junior'},\n",
    "              'pparker': {'name': 'Peter', 'surname': 'Parker', 'age': 35, 'salary': 150000, 'position': 'middle'},\n",
    "              'akarpov': {'name': 'Anatoly', 'surname': 'Karpov', 'age': 30, 'salary': 250000, 'position': 'senior'}}"
   ]
  },
  {
   "cell_type": "code",
   "execution_count": 34,
   "id": "1c0c557d",
   "metadata": {},
   "outputs": [
    {
     "data": {
      "text/plain": [
       "250000"
      ]
     },
     "execution_count": 34,
     "metadata": {},
     "output_type": "execute_result"
    }
   ],
   "source": [
    "users_dict['akarpov']['salary'] # обращение к элементам"
   ]
  }
 ],
 "metadata": {
  "kernelspec": {
   "display_name": "Python 3 (ipykernel)",
   "language": "python",
   "name": "python3"
  },
  "language_info": {
   "codemirror_mode": {
    "name": "ipython",
    "version": 3
   },
   "file_extension": ".py",
   "mimetype": "text/x-python",
   "name": "python",
   "nbconvert_exporter": "python",
   "pygments_lexer": "ipython3",
   "version": "3.9.12"
  }
 },
 "nbformat": 4,
 "nbformat_minor": 5
}
