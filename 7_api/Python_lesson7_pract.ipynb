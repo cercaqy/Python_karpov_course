{
 "cells": [
  {
   "cell_type": "markdown",
   "id": "5ad9c53d",
   "metadata": {},
   "source": [
    "# Урок 7. Задания."
   ]
  },
  {
   "cell_type": "code",
   "execution_count": 2,
   "id": "8e4979d8",
   "metadata": {},
   "outputs": [],
   "source": [
    "import pandas as pd\n",
    "import numpy as np\n",
    "\n",
    "import requests\n",
    "from io import BytesIO # для чтения данных в виде байтов\n",
    "\n",
    "import telebot"
   ]
  },
  {
   "cell_type": "markdown",
   "id": "05bfeab9",
   "metadata": {},
   "source": [
    "### Задание 1\n",
    "\n",
    "Загрузите [данные](https://docs.google.com/spreadsheets/d/e/2PACX-1vTrOh3gaTJXbujyd996nbU7QrYj-Q4Wd_AhjxbMzlSQLc3sD4fo7n9quD-yKqnqx2TbMspLjoocgN9R/pub?output=csv) из Google Sheets при помощи библиотеки requests. Посчитайте процент мужчин среди всех посетителей сайта, округлите ответ до целых.\n",
    "\n",
    "    from io import BytesIO\n",
    "    import requests\n",
    "\n",
    "    req = requests.get(your_link)\n",
    "    data = req.content\n",
    "    df = pd.read_csv(BytesIO(data))"
   ]
  },
  {
   "cell_type": "code",
   "execution_count": 9,
   "id": "e228dcb7",
   "metadata": {},
   "outputs": [],
   "source": [
    "# Запишем в переменную url ссылку на данные\n",
    "\n",
    "url = 'https://docs.google.com/spreadsheets/d/e/2PACX-1vTrOh3gaTJXbujyd996nbU7QrYj-Q4Wd_AhjxbMzlSQLc3sD4fo7n9quD-yKqnqx2TbMspLjoocgN9R/pub?output=csv'"
   ]
  },
  {
   "cell_type": "code",
   "execution_count": 10,
   "id": "c4c33ca4",
   "metadata": {},
   "outputs": [
    {
     "data": {
      "text/plain": [
       "<Response [200]>"
      ]
     },
     "execution_count": 10,
     "metadata": {},
     "output_type": "execute_result"
    }
   ],
   "source": [
    "# Запишем данные в переменную req\n",
    "\n",
    "req = requests.get(url)\n",
    "req"
   ]
  },
  {
   "cell_type": "markdown",
   "id": "cf19c271",
   "metadata": {},
   "source": [
    "> 1 способ"
   ]
  },
  {
   "cell_type": "code",
   "execution_count": 5,
   "id": "5247e898",
   "metadata": {},
   "outputs": [
    {
     "data": {
      "text/plain": [
       "b'date,gender,users\\r\\n2020-06-14,Not specified,150\\r\\n2020-06-14,male,117\\r\\n2020-06-14,female,21'"
      ]
     },
     "execution_count": 5,
     "metadata": {},
     "output_type": "execute_result"
    }
   ],
   "source": [
    "data = req.content # байтовая строка\n",
    "data"
   ]
  },
  {
   "cell_type": "code",
   "execution_count": 6,
   "id": "be845dd0",
   "metadata": {},
   "outputs": [
    {
     "data": {
      "text/html": [
       "<div>\n",
       "<style scoped>\n",
       "    .dataframe tbody tr th:only-of-type {\n",
       "        vertical-align: middle;\n",
       "    }\n",
       "\n",
       "    .dataframe tbody tr th {\n",
       "        vertical-align: top;\n",
       "    }\n",
       "\n",
       "    .dataframe thead th {\n",
       "        text-align: right;\n",
       "    }\n",
       "</style>\n",
       "<table border=\"1\" class=\"dataframe\">\n",
       "  <thead>\n",
       "    <tr style=\"text-align: right;\">\n",
       "      <th></th>\n",
       "      <th>date</th>\n",
       "      <th>gender</th>\n",
       "      <th>users</th>\n",
       "    </tr>\n",
       "  </thead>\n",
       "  <tbody>\n",
       "    <tr>\n",
       "      <th>0</th>\n",
       "      <td>2020-06-14</td>\n",
       "      <td>Not specified</td>\n",
       "      <td>150</td>\n",
       "    </tr>\n",
       "    <tr>\n",
       "      <th>1</th>\n",
       "      <td>2020-06-14</td>\n",
       "      <td>male</td>\n",
       "      <td>117</td>\n",
       "    </tr>\n",
       "    <tr>\n",
       "      <th>2</th>\n",
       "      <td>2020-06-14</td>\n",
       "      <td>female</td>\n",
       "      <td>21</td>\n",
       "    </tr>\n",
       "  </tbody>\n",
       "</table>\n",
       "</div>"
      ],
      "text/plain": [
       "         date         gender  users\n",
       "0  2020-06-14  Not specified    150\n",
       "1  2020-06-14           male    117\n",
       "2  2020-06-14         female     21"
      ]
     },
     "execution_count": 6,
     "metadata": {},
     "output_type": "execute_result"
    }
   ],
   "source": [
    "df = pd.read_csv(BytesIO(data)) # BytesIO - для считывания байтовых данных \n",
    "df"
   ]
  },
  {
   "cell_type": "markdown",
   "id": "c7268b36",
   "metadata": {},
   "source": [
    ">2 способ"
   ]
  },
  {
   "cell_type": "code",
   "execution_count": 11,
   "id": "967c46d2",
   "metadata": {},
   "outputs": [
    {
     "data": {
      "text/plain": [
       "['date,gender,users',\n",
       " '2020-06-14,Not specified,150',\n",
       " '2020-06-14,male,117',\n",
       " '2020-06-14,female,21']"
      ]
     },
     "execution_count": 11,
     "metadata": {},
     "output_type": "execute_result"
    }
   ],
   "source": [
    "# Разделим строку на элементы списка и пместим в переменную text\n",
    "\n",
    "text = req.text.splitlines()\n",
    "text"
   ]
  },
  {
   "cell_type": "code",
   "execution_count": 14,
   "id": "168eddae",
   "metadata": {},
   "outputs": [],
   "source": [
    "col_names = text[0] # названия колонок\n",
    "content = text[1:] # остальные данные"
   ]
  },
  {
   "cell_type": "code",
   "execution_count": 23,
   "id": "be888bc1",
   "metadata": {},
   "outputs": [],
   "source": [
    "# Разделим данные по запятой ('date,gender,users' -> ['date', 'gender', 'users'])\n",
    "\n",
    "col_names = col_names.split(',')\n",
    "content = [row.split(',') for row in content]"
   ]
  },
  {
   "cell_type": "code",
   "execution_count": 26,
   "id": "2837a0f9",
   "metadata": {},
   "outputs": [
    {
     "data": {
      "text/html": [
       "<div>\n",
       "<style scoped>\n",
       "    .dataframe tbody tr th:only-of-type {\n",
       "        vertical-align: middle;\n",
       "    }\n",
       "\n",
       "    .dataframe tbody tr th {\n",
       "        vertical-align: top;\n",
       "    }\n",
       "\n",
       "    .dataframe thead th {\n",
       "        text-align: right;\n",
       "    }\n",
       "</style>\n",
       "<table border=\"1\" class=\"dataframe\">\n",
       "  <thead>\n",
       "    <tr style=\"text-align: right;\">\n",
       "      <th></th>\n",
       "      <th>date</th>\n",
       "      <th>gender</th>\n",
       "      <th>users</th>\n",
       "    </tr>\n",
       "  </thead>\n",
       "  <tbody>\n",
       "    <tr>\n",
       "      <th>0</th>\n",
       "      <td>2020-06-14</td>\n",
       "      <td>Not specified</td>\n",
       "      <td>150</td>\n",
       "    </tr>\n",
       "    <tr>\n",
       "      <th>1</th>\n",
       "      <td>2020-06-14</td>\n",
       "      <td>male</td>\n",
       "      <td>117</td>\n",
       "    </tr>\n",
       "    <tr>\n",
       "      <th>2</th>\n",
       "      <td>2020-06-14</td>\n",
       "      <td>female</td>\n",
       "      <td>21</td>\n",
       "    </tr>\n",
       "  </tbody>\n",
       "</table>\n",
       "</div>"
      ],
      "text/plain": [
       "         date         gender users\n",
       "0  2020-06-14  Not specified   150\n",
       "1  2020-06-14           male   117\n",
       "2  2020-06-14         female    21"
      ]
     },
     "execution_count": 26,
     "metadata": {},
     "output_type": "execute_result"
    }
   ],
   "source": [
    "# Преобразуем данные в DataFrame\n",
    "\n",
    "pd.DataFrame(content, columns = col_names)"
   ]
  },
  {
   "cell_type": "markdown",
   "id": "e8e6262f",
   "metadata": {},
   "source": [
    ">3 способ\n"
   ]
  },
  {
   "cell_type": "code",
   "execution_count": 28,
   "id": "2ea01c88",
   "metadata": {},
   "outputs": [
    {
     "data": {
      "text/html": [
       "<div>\n",
       "<style scoped>\n",
       "    .dataframe tbody tr th:only-of-type {\n",
       "        vertical-align: middle;\n",
       "    }\n",
       "\n",
       "    .dataframe tbody tr th {\n",
       "        vertical-align: top;\n",
       "    }\n",
       "\n",
       "    .dataframe thead th {\n",
       "        text-align: right;\n",
       "    }\n",
       "</style>\n",
       "<table border=\"1\" class=\"dataframe\">\n",
       "  <thead>\n",
       "    <tr style=\"text-align: right;\">\n",
       "      <th></th>\n",
       "      <th>date</th>\n",
       "      <th>gender</th>\n",
       "      <th>users</th>\n",
       "    </tr>\n",
       "  </thead>\n",
       "  <tbody>\n",
       "    <tr>\n",
       "      <th>0</th>\n",
       "      <td>2020-06-14</td>\n",
       "      <td>Not specified</td>\n",
       "      <td>150</td>\n",
       "    </tr>\n",
       "    <tr>\n",
       "      <th>1</th>\n",
       "      <td>2020-06-14</td>\n",
       "      <td>male</td>\n",
       "      <td>117</td>\n",
       "    </tr>\n",
       "    <tr>\n",
       "      <th>2</th>\n",
       "      <td>2020-06-14</td>\n",
       "      <td>female</td>\n",
       "      <td>21</td>\n",
       "    </tr>\n",
       "  </tbody>\n",
       "</table>\n",
       "</div>"
      ],
      "text/plain": [
       "         date         gender  users\n",
       "0  2020-06-14  Not specified    150\n",
       "1  2020-06-14           male    117\n",
       "2  2020-06-14         female     21"
      ]
     },
     "execution_count": 28,
     "metadata": {},
     "output_type": "execute_result"
    }
   ],
   "source": [
    "pd.read_csv(url)"
   ]
  },
  {
   "cell_type": "markdown",
   "id": "01412166",
   "metadata": {},
   "source": [
    ">"
   ]
  },
  {
   "cell_type": "code",
   "execution_count": 31,
   "id": "70dcdb29",
   "metadata": {},
   "outputs": [],
   "source": [
    "# Посчитаем количество мужчин среди всех посетителей сайта и запишем в переменную male_number\n",
    "\n",
    "male_number = df.query('gender == \"male\"').users"
   ]
  },
  {
   "cell_type": "code",
   "execution_count": 32,
   "id": "5ee36ab0",
   "metadata": {},
   "outputs": [],
   "source": [
    "# Посчитаем общее количество посетителей сайта и запишем в переменную users_number\n",
    "\n",
    "users_number = df.users.sum()"
   ]
  },
  {
   "cell_type": "code",
   "execution_count": 33,
   "id": "3d66b732",
   "metadata": {},
   "outputs": [
    {
     "data": {
      "text/plain": [
       "1    41.0\n",
       "Name: users, dtype: float64"
      ]
     },
     "execution_count": 33,
     "metadata": {},
     "output_type": "execute_result"
    }
   ],
   "source": [
    "# Найдем процент мужчин среди всех посетителей сайта и округлим ответ до целых\n",
    "\n",
    "((male_number / users_number) * 100).round()"
   ]
  },
  {
   "cell_type": "markdown",
   "id": "5389ba75",
   "metadata": {},
   "source": [
    "### Задание 2\n",
    "\n",
    "Скачайте файл с данными посещаемости сайта Яндекс.Метрика (karpov_courses_test.csv). При помощи функции np.where создайте серию, в которую будет записываться 1, если посещения были сделаны роботами с браузера, содержащего Chrome в названии и 0, в других случаях. Поместите получившуюся серию в переменную chrome_robots\n",
    "\n",
    "Hint: ответ должен быть в форме pd. Series\n",
    "\n",
    "  Hint2: в питру более жёсткие требования к логическим действиям чем в пандасе - выражения должны быть окружены скобками и вместо or/and нужно писать | или &\n",
    "\n",
    "  Может понадобиться:\n",
    "  \n",
    "   str.contains()\n"
   ]
  },
  {
   "cell_type": "code",
   "execution_count": 34,
   "id": "0e79457c",
   "metadata": {},
   "outputs": [],
   "source": [
    "# Запишем путь к файлу в переменную path\n",
    "\n",
    "path = '/Users/ola/Documents/Karpov/7. Знакомство с API/karpov_courses_test.csv'"
   ]
  },
  {
   "cell_type": "code",
   "execution_count": 35,
   "id": "3dad2fd1",
   "metadata": {},
   "outputs": [],
   "source": [
    "# Считаем данные в переменную traffic_data\n",
    "\n",
    "traffic_data = pd.read_csv(path)"
   ]
  },
  {
   "cell_type": "code",
   "execution_count": 36,
   "id": "fae5aee9",
   "metadata": {},
   "outputs": [
    {
     "data": {
      "text/html": [
       "<div>\n",
       "<style scoped>\n",
       "    .dataframe tbody tr th:only-of-type {\n",
       "        vertical-align: middle;\n",
       "    }\n",
       "\n",
       "    .dataframe tbody tr th {\n",
       "        vertical-align: top;\n",
       "    }\n",
       "\n",
       "    .dataframe thead th {\n",
       "        text-align: right;\n",
       "    }\n",
       "</style>\n",
       "<table border=\"1\" class=\"dataframe\">\n",
       "  <thead>\n",
       "    <tr style=\"text-align: right;\">\n",
       "      <th></th>\n",
       "      <th>date</th>\n",
       "      <th>browser</th>\n",
       "      <th>user_type</th>\n",
       "      <th>users</th>\n",
       "    </tr>\n",
       "  </thead>\n",
       "  <tbody>\n",
       "    <tr>\n",
       "      <th>0</th>\n",
       "      <td>2020-06-14</td>\n",
       "      <td>Google Chrome</td>\n",
       "      <td>People</td>\n",
       "      <td>139</td>\n",
       "    </tr>\n",
       "    <tr>\n",
       "      <th>1</th>\n",
       "      <td>2020-06-14</td>\n",
       "      <td>Chrome Mobile</td>\n",
       "      <td>People</td>\n",
       "      <td>35</td>\n",
       "    </tr>\n",
       "    <tr>\n",
       "      <th>2</th>\n",
       "      <td>2020-06-14</td>\n",
       "      <td>Google Chrome</td>\n",
       "      <td>Robots</td>\n",
       "      <td>28</td>\n",
       "    </tr>\n",
       "    <tr>\n",
       "      <th>3</th>\n",
       "      <td>2020-06-14</td>\n",
       "      <td>Yandex Browser</td>\n",
       "      <td>People</td>\n",
       "      <td>22</td>\n",
       "    </tr>\n",
       "    <tr>\n",
       "      <th>4</th>\n",
       "      <td>2020-06-14</td>\n",
       "      <td>Firefox</td>\n",
       "      <td>People</td>\n",
       "      <td>15</td>\n",
       "    </tr>\n",
       "  </tbody>\n",
       "</table>\n",
       "</div>"
      ],
      "text/plain": [
       "         date         browser user_type  users\n",
       "0  2020-06-14   Google Chrome    People    139\n",
       "1  2020-06-14   Chrome Mobile    People     35\n",
       "2  2020-06-14   Google Chrome    Robots     28\n",
       "3  2020-06-14  Yandex Browser    People     22\n",
       "4  2020-06-14         Firefox    People     15"
      ]
     },
     "execution_count": 36,
     "metadata": {},
     "output_type": "execute_result"
    }
   ],
   "source": [
    "traffic_data.head()"
   ]
  },
  {
   "cell_type": "code",
   "execution_count": 38,
   "id": "9eed2c6c",
   "metadata": {},
   "outputs": [
    {
     "data": {
      "text/plain": [
       "array([0, 0, 1, 0, 0, 0, 0, 0, 0, 0, 0, 0, 0, 0, 0, 0, 0, 0, 0, 1, 0, 0,\n",
       "       0, 0])"
      ]
     },
     "execution_count": 38,
     "metadata": {},
     "output_type": "execute_result"
    }
   ],
   "source": [
    "# Запишем в переменную chrome_robots массив в котором будет 1,\n",
    "# если посещения были сделаны роботами с браузера, содержащего Chrome в названии и 0, в других случаях. \n",
    "\n",
    "chrome_robots = np.where((traffic_data.user_type == 'Robots') & (traffic_data.browser.str.contains('Chrome')), 1, 0)\n",
    "chrome_robots"
   ]
  },
  {
   "cell_type": "code",
   "execution_count": 41,
   "id": "8d222fd4",
   "metadata": {},
   "outputs": [
    {
     "data": {
      "text/plain": [
       "0     0\n",
       "1     0\n",
       "2     1\n",
       "3     0\n",
       "4     0\n",
       "5     0\n",
       "6     0\n",
       "7     0\n",
       "8     0\n",
       "9     0\n",
       "10    0\n",
       "11    0\n",
       "12    0\n",
       "13    0\n",
       "14    0\n",
       "15    0\n",
       "16    0\n",
       "17    0\n",
       "18    0\n",
       "19    1\n",
       "20    0\n",
       "21    0\n",
       "22    0\n",
       "23    0\n",
       "dtype: int64"
      ]
     },
     "execution_count": 41,
     "metadata": {},
     "output_type": "execute_result"
    }
   ],
   "source": [
    "# Преобразуем полученный массив к типу pd.Series и перезапишем в переменную chrome_robots\n",
    "\n",
    "chrome_robots = pd.Series(chrome_robots)\n",
    "chrome_robots"
   ]
  },
  {
   "cell_type": "markdown",
   "id": "8008f2a5",
   "metadata": {},
   "source": [
    "### Задание 3\n",
    "\n",
    "У вас есть датасет sample_ads.csv с данными о кликах и показах по объявлению, в этом датасете есть пропуски. Вычислите количество строк без пропусков в колонке click_type. Запишите ответ в переменную not_nan_count\n",
    "\n",
    "    ad_id - id объявления\n",
    "    user_id - id пользователя\n",
    "    click_type - тип клика (клик по заголовку объявления, клик по центру)"
   ]
  },
  {
   "cell_type": "code",
   "execution_count": 59,
   "id": "99f4a409",
   "metadata": {},
   "outputs": [],
   "source": [
    "# Запишем путь к файлу в переменную path\n",
    "\n",
    "path = '/Users/ola/Downloads/[SW.BAND] 7/[SW.BAND] Задания/sample_ads.csv'"
   ]
  },
  {
   "cell_type": "code",
   "execution_count": 60,
   "id": "890d6b8d",
   "metadata": {
    "scrolled": true
   },
   "outputs": [
    {
     "data": {
      "text/html": [
       "<div>\n",
       "<style scoped>\n",
       "    .dataframe tbody tr th:only-of-type {\n",
       "        vertical-align: middle;\n",
       "    }\n",
       "\n",
       "    .dataframe tbody tr th {\n",
       "        vertical-align: top;\n",
       "    }\n",
       "\n",
       "    .dataframe thead th {\n",
       "        text-align: right;\n",
       "    }\n",
       "</style>\n",
       "<table border=\"1\" class=\"dataframe\">\n",
       "  <thead>\n",
       "    <tr style=\"text-align: right;\">\n",
       "      <th></th>\n",
       "      <th>ad_id</th>\n",
       "      <th>user_id</th>\n",
       "      <th>click_type</th>\n",
       "    </tr>\n",
       "  </thead>\n",
       "  <tbody>\n",
       "    <tr>\n",
       "      <th>0</th>\n",
       "      <td>12345</td>\n",
       "      <td>qwert</td>\n",
       "      <td>top</td>\n",
       "    </tr>\n",
       "    <tr>\n",
       "      <th>1</th>\n",
       "      <td>12345</td>\n",
       "      <td>fsssc</td>\n",
       "      <td>center</td>\n",
       "    </tr>\n",
       "    <tr>\n",
       "      <th>2</th>\n",
       "      <td>12345</td>\n",
       "      <td>vfvgg</td>\n",
       "      <td>NaN</td>\n",
       "    </tr>\n",
       "    <tr>\n",
       "      <th>3</th>\n",
       "      <td>12345</td>\n",
       "      <td>asrvv</td>\n",
       "      <td>NaN</td>\n",
       "    </tr>\n",
       "    <tr>\n",
       "      <th>4</th>\n",
       "      <td>12345</td>\n",
       "      <td>tynuy</td>\n",
       "      <td>top</td>\n",
       "    </tr>\n",
       "  </tbody>\n",
       "</table>\n",
       "</div>"
      ],
      "text/plain": [
       "   ad_id user_id click_type\n",
       "0  12345   qwert        top\n",
       "1  12345   fsssc     center\n",
       "2  12345   vfvgg        NaN\n",
       "3  12345   asrvv        NaN\n",
       "4  12345   tynuy        top"
      ]
     },
     "execution_count": 60,
     "metadata": {},
     "output_type": "execute_result"
    }
   ],
   "source": [
    "# Считаем данные в переменную sample_ads\n",
    "\n",
    "sample_ads = pd.read_csv(path)\n",
    "sample_ads.head()"
   ]
  },
  {
   "cell_type": "code",
   "execution_count": 61,
   "id": "9a40ff8c",
   "metadata": {},
   "outputs": [
    {
     "data": {
      "text/plain": [
       "11"
      ]
     },
     "execution_count": 61,
     "metadata": {},
     "output_type": "execute_result"
    }
   ],
   "source": [
    "# 1 способ\n",
    "# Запишем в переменную not_nan_count количество not null значений в колонке click_type\n",
    "\n",
    "not_nan_count = sample_ads.query('click_type == click_type').shape[0]\n",
    "not_nan_count"
   ]
  },
  {
   "cell_type": "code",
   "execution_count": 64,
   "id": "b1f5a63b",
   "metadata": {},
   "outputs": [
    {
     "data": {
      "text/plain": [
       "11"
      ]
     },
     "execution_count": 64,
     "metadata": {},
     "output_type": "execute_result"
    }
   ],
   "source": [
    "# 2 способ\n",
    "# Запишем в переменную not_nan_count количество not null значений в колонке click_type\n",
    "\n",
    "sample_ads.click_type.notna().sum()"
   ]
  },
  {
   "cell_type": "markdown",
   "id": "afa6e3ce",
   "metadata": {},
   "source": [
    "### Задание 4\n",
    "В списке lst находятся различные элементы. Создайте списк new_list и сделайте следующее:\n",
    "- при помощи конструкции try except и цикла попробуйте преобразовать каждое значение в листе в int\n",
    "- если это получилось - добавьте преобразованное значение  в список new_list\n"
   ]
  },
  {
   "cell_type": "code",
   "execution_count": 108,
   "id": "105d215d",
   "metadata": {},
   "outputs": [],
   "source": [
    "# Функция, преобразующая целые чисел в int и добавляющая только их в новый список\n",
    "\n",
    "def convert_to_int(lst):\n",
    "    new_list = []\n",
    "    \n",
    "    for element in lst:\n",
    "        try:\n",
    "            new_list.append(int(element))\n",
    "        except:\n",
    "            pass # заглушка\n",
    "    return new_list"
   ]
  },
  {
   "cell_type": "code",
   "execution_count": 103,
   "id": "d3742f9c",
   "metadata": {},
   "outputs": [],
   "source": [
    "# Иная реализация такой функции (без создания нового списка)\n",
    "\n",
    "def convert_to_int_without_newlist(lst):\n",
    "    for i in range(len(lst)):\n",
    "        try:\n",
    "            lst[i] = int(lst[i])\n",
    "        except:\n",
    "            lst.pop(i)\n",
    "    return lst "
   ]
  },
  {
   "cell_type": "code",
   "execution_count": 104,
   "id": "04b01311",
   "metadata": {},
   "outputs": [],
   "source": [
    "lst = ['0', '2', 'Hello World', '11', 3, '3']"
   ]
  },
  {
   "cell_type": "code",
   "execution_count": 109,
   "id": "21f3e84a",
   "metadata": {},
   "outputs": [
    {
     "data": {
      "text/plain": [
       "[0, 2, 11, 3, 3]"
      ]
     },
     "execution_count": 109,
     "metadata": {},
     "output_type": "execute_result"
    }
   ],
   "source": [
    "convert_to_int(lst)"
   ]
  },
  {
   "cell_type": "code",
   "execution_count": 107,
   "id": "75a6b19c",
   "metadata": {},
   "outputs": [
    {
     "data": {
      "text/plain": [
       "[0, 2, 11, 3, 3]"
      ]
     },
     "execution_count": 107,
     "metadata": {},
     "output_type": "execute_result"
    }
   ],
   "source": [
    "convert_to_int_without_newlist(lst)"
   ]
  },
  {
   "cell_type": "markdown",
   "id": "a0f3f120",
   "metadata": {},
   "source": [
    "### Задание 5\n",
    "А теперь попробуем воспользоваться знаниями использования Telegram API. Отправьте себе в личку любое послание, а в ответ к этому шагу напишите ник бота, от имени которого будете отправлять сообщения."
   ]
  },
  {
   "cell_type": "code",
   "execution_count": 133,
   "id": "430d1b32",
   "metadata": {},
   "outputs": [],
   "source": [
    "token = ''"
   ]
  },
  {
   "cell_type": "code",
   "execution_count": 134,
   "id": "f2e16f3d",
   "metadata": {},
   "outputs": [],
   "source": [
    "bot = telebot.TeleBot(token)"
   ]
  },
  {
   "cell_type": "code",
   "execution_count": 135,
   "id": "3b6e2a6a",
   "metadata": {},
   "outputs": [],
   "source": [
    "chat_id = '610280374'\n",
    "text = 'я твой сын'"
   ]
  },
  {
   "cell_type": "code",
   "execution_count": 136,
   "id": "d10bd1f8",
   "metadata": {},
   "outputs": [
    {
     "data": {
      "text/plain": [
       "<telebot.types.Message at 0x7fa74a273580>"
      ]
     },
     "execution_count": 136,
     "metadata": {},
     "output_type": "execute_result"
    }
   ],
   "source": [
    "bot.send_message(chat_id, text)"
   ]
  },
  {
   "cell_type": "markdown",
   "id": "763e5323",
   "metadata": {},
   "source": [
    "Никнейм бота - @test_olive_ola_bot"
   ]
  },
  {
   "cell_type": "code",
   "execution_count": null,
   "id": "8300f71f",
   "metadata": {},
   "outputs": [],
   "source": []
  }
 ],
 "metadata": {
  "kernelspec": {
   "display_name": "Python 3 (ipykernel)",
   "language": "python",
   "name": "python3"
  },
  "language_info": {
   "codemirror_mode": {
    "name": "ipython",
    "version": 3
   },
   "file_extension": ".py",
   "mimetype": "text/x-python",
   "name": "python",
   "nbconvert_exporter": "python",
   "pygments_lexer": "ipython3",
   "version": "3.9.12"
  }
 },
 "nbformat": 4,
 "nbformat_minor": 5
}
