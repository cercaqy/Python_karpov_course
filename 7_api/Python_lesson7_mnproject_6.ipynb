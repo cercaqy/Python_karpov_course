{
 "cells": [
  {
   "cell_type": "markdown",
   "id": "e7c3ca47",
   "metadata": {},
   "source": [
    "# Минипроект 6"
   ]
  },
  {
   "cell_type": "code",
   "execution_count": 55,
   "id": "469e7536",
   "metadata": {},
   "outputs": [],
   "source": [
    "import pandas as pd\n",
    "import numpy as np\n",
    "\n",
    "import requests\n",
    "import json\n",
    "from urllib.parse import urlencode\n",
    "from io import BytesIO\n",
    "\n",
    "import gspread\n",
    "from df2gspread import df2gspread as d2g\n",
    "from oauth2client.service_account import ServiceAccountCredentials\n",
    "import gc\n",
    "import vk_api\n",
    "\n",
    "import seaborn as sns\n",
    "import matplotlib.pyplot as plt "
   ]
  },
  {
   "cell_type": "code",
   "execution_count": 2,
   "id": "64248220",
   "metadata": {},
   "outputs": [],
   "source": [
    "import warnings\n",
    "warnings.filterwarnings('ignore')"
   ]
  },
  {
   "cell_type": "markdown",
   "id": "a2702f03",
   "metadata": {},
   "source": [
    "### Задание 1\n",
    "\n",
    "Для начала, давайте посмотрим на распределение посещений сайта по дням. Постройте график с распределением количества посещений от ботов и обычных пользователей сайта Яндекс.Метрика с 2022-12-11 по 2022-12-13\n",
    "\n",
    "Hint: для получения нужных данных понадобится фильтр по дате и параметр isRobots\n",
    "\n",
    "Hint2: чтобы применить фильтр по дате воспользуйтесь &filters=ym:s:date=='date_which_you_need'"
   ]
  },
  {
   "cell_type": "code",
   "execution_count": 3,
   "id": "cccad68f",
   "metadata": {},
   "outputs": [],
   "source": [
    "# Базовая ссылка без параметров\n",
    "\n",
    "url = 'https://api-metrika.yandex.net/stat/v1/data?'"
   ]
  },
  {
   "cell_type": "code",
   "execution_count": 4,
   "id": "e5526983",
   "metadata": {},
   "outputs": [],
   "source": [
    "# Список дат из рассматриваемого временного промежутка\n",
    "\n",
    "dates = ['2022-12-11', '2022-12-12', '2022-12-13'] "
   ]
  },
  {
   "cell_type": "code",
   "execution_count": 5,
   "id": "1248c4a7",
   "metadata": {},
   "outputs": [],
   "source": [
    "df = pd.DataFrame()"
   ]
  },
  {
   "cell_type": "code",
   "execution_count": 6,
   "id": "ee0b92f4",
   "metadata": {},
   "outputs": [],
   "source": [
    "for date in dates:\n",
    "    \n",
    "    # Зададим параметры, добавляющиеся к базовой ссылке\n",
    "    params = {\n",
    "                'metrics': 'ym:s:visits',\n",
    "                'dimensions': ['ym:s:date', 'ym:s:isRobot'],\n",
    "                'filters': f\"ym:s:date=='{date}'\",\n",
    "                'id': 44147844\n",
    "            }\n",
    "\n",
    "    visits = urlencode(params, doseq = True) # doseq = True, тк есть список параметров\n",
    "   \n",
    "    # Полная ссылка\n",
    "    link = url + visits\n",
    "    \n",
    "    # Получаем ответ после переходу на ссылку\n",
    "    response = requests.get(link)\n",
    "    \n",
    "    # Преобразуем полученный ответ в json формат\n",
    "    json_data = response.json()\n",
    "    \n",
    "    \n",
    "    for record in json_data['data']:\n",
    "        \n",
    "        # Создаем список, где 0 элемент - дата, 1 - тип пользователя, 2 - количество посетителей \n",
    "        #(для каждой итерации чистится)\n",
    "        lst = []\n",
    "        \n",
    "        dimensions_data = record['dimensions'] \n",
    "        metriq_data = record['metrics'][0]\n",
    "\n",
    "        for i in dimensions_data:\n",
    "            lst.append(i['name']) # добавляем в список сначала дату, потом тип пользователя\n",
    "        \n",
    "        lst.append(metriq_data) # добавляем в список количество посетителей\n",
    "        \n",
    "        \n",
    "        # Добавляем новую строчку в датафрейм \n",
    "        df = df.append([lst])"
   ]
  },
  {
   "cell_type": "code",
   "execution_count": 7,
   "id": "e1857928",
   "metadata": {},
   "outputs": [
    {
     "data": {
      "text/html": [
       "<div>\n",
       "<style scoped>\n",
       "    .dataframe tbody tr th:only-of-type {\n",
       "        vertical-align: middle;\n",
       "    }\n",
       "\n",
       "    .dataframe tbody tr th {\n",
       "        vertical-align: top;\n",
       "    }\n",
       "\n",
       "    .dataframe thead th {\n",
       "        text-align: right;\n",
       "    }\n",
       "</style>\n",
       "<table border=\"1\" class=\"dataframe\">\n",
       "  <thead>\n",
       "    <tr style=\"text-align: right;\">\n",
       "      <th></th>\n",
       "      <th>0</th>\n",
       "      <th>1</th>\n",
       "      <th>2</th>\n",
       "    </tr>\n",
       "  </thead>\n",
       "  <tbody>\n",
       "    <tr>\n",
       "      <th>0</th>\n",
       "      <td>2022-12-11</td>\n",
       "      <td>People</td>\n",
       "      <td>356.0</td>\n",
       "    </tr>\n",
       "    <tr>\n",
       "      <th>0</th>\n",
       "      <td>2022-12-11</td>\n",
       "      <td>Robots</td>\n",
       "      <td>27.0</td>\n",
       "    </tr>\n",
       "    <tr>\n",
       "      <th>0</th>\n",
       "      <td>2022-12-12</td>\n",
       "      <td>People</td>\n",
       "      <td>677.0</td>\n",
       "    </tr>\n",
       "    <tr>\n",
       "      <th>0</th>\n",
       "      <td>2022-12-12</td>\n",
       "      <td>Robots</td>\n",
       "      <td>37.0</td>\n",
       "    </tr>\n",
       "    <tr>\n",
       "      <th>0</th>\n",
       "      <td>2022-12-13</td>\n",
       "      <td>People</td>\n",
       "      <td>700.0</td>\n",
       "    </tr>\n",
       "    <tr>\n",
       "      <th>0</th>\n",
       "      <td>2022-12-13</td>\n",
       "      <td>Robots</td>\n",
       "      <td>34.0</td>\n",
       "    </tr>\n",
       "  </tbody>\n",
       "</table>\n",
       "</div>"
      ],
      "text/plain": [
       "            0       1      2\n",
       "0  2022-12-11  People  356.0\n",
       "0  2022-12-11  Robots   27.0\n",
       "0  2022-12-12  People  677.0\n",
       "0  2022-12-12  Robots   37.0\n",
       "0  2022-12-13  People  700.0\n",
       "0  2022-12-13  Robots   34.0"
      ]
     },
     "execution_count": 7,
     "metadata": {},
     "output_type": "execute_result"
    }
   ],
   "source": [
    "df"
   ]
  },
  {
   "cell_type": "markdown",
   "id": "dafacadf",
   "metadata": {},
   "source": [
    "Получаются ссылки следующего вида:\n",
    "\n",
    "https://api-metrika.yandex.net/stat/v1/data?metrics=ym:s:visits&dimensions=ym:s:date&filters=ym:s:date=='2022-12-11'&dimensions=ym:s:isRobot&id=44147844"
   ]
  },
  {
   "cell_type": "code",
   "execution_count": 8,
   "id": "9d46a507",
   "metadata": {},
   "outputs": [],
   "source": [
    "# Дадим колонкам имена\n",
    "\n",
    "df.columns = ['date', 'type', 'visits_count']"
   ]
  },
  {
   "cell_type": "code",
   "execution_count": 9,
   "id": "91d7bdb5",
   "metadata": {},
   "outputs": [
    {
     "data": {
      "text/html": [
       "<div>\n",
       "<style scoped>\n",
       "    .dataframe tbody tr th:only-of-type {\n",
       "        vertical-align: middle;\n",
       "    }\n",
       "\n",
       "    .dataframe tbody tr th {\n",
       "        vertical-align: top;\n",
       "    }\n",
       "\n",
       "    .dataframe thead th {\n",
       "        text-align: right;\n",
       "    }\n",
       "</style>\n",
       "<table border=\"1\" class=\"dataframe\">\n",
       "  <thead>\n",
       "    <tr style=\"text-align: right;\">\n",
       "      <th></th>\n",
       "      <th>date</th>\n",
       "      <th>type</th>\n",
       "      <th>visits_count</th>\n",
       "    </tr>\n",
       "  </thead>\n",
       "  <tbody>\n",
       "    <tr>\n",
       "      <th>0</th>\n",
       "      <td>2022-12-11</td>\n",
       "      <td>People</td>\n",
       "      <td>356.0</td>\n",
       "    </tr>\n",
       "    <tr>\n",
       "      <th>0</th>\n",
       "      <td>2022-12-11</td>\n",
       "      <td>Robots</td>\n",
       "      <td>27.0</td>\n",
       "    </tr>\n",
       "    <tr>\n",
       "      <th>0</th>\n",
       "      <td>2022-12-12</td>\n",
       "      <td>People</td>\n",
       "      <td>677.0</td>\n",
       "    </tr>\n",
       "    <tr>\n",
       "      <th>0</th>\n",
       "      <td>2022-12-12</td>\n",
       "      <td>Robots</td>\n",
       "      <td>37.0</td>\n",
       "    </tr>\n",
       "    <tr>\n",
       "      <th>0</th>\n",
       "      <td>2022-12-13</td>\n",
       "      <td>People</td>\n",
       "      <td>700.0</td>\n",
       "    </tr>\n",
       "    <tr>\n",
       "      <th>0</th>\n",
       "      <td>2022-12-13</td>\n",
       "      <td>Robots</td>\n",
       "      <td>34.0</td>\n",
       "    </tr>\n",
       "  </tbody>\n",
       "</table>\n",
       "</div>"
      ],
      "text/plain": [
       "         date    type  visits_count\n",
       "0  2022-12-11  People         356.0\n",
       "0  2022-12-11  Robots          27.0\n",
       "0  2022-12-12  People         677.0\n",
       "0  2022-12-12  Robots          37.0\n",
       "0  2022-12-13  People         700.0\n",
       "0  2022-12-13  Robots          34.0"
      ]
     },
     "execution_count": 9,
     "metadata": {},
     "output_type": "execute_result"
    }
   ],
   "source": [
    "df"
   ]
  },
  {
   "cell_type": "code",
   "execution_count": 10,
   "id": "1fe22676",
   "metadata": {},
   "outputs": [
    {
     "data": {
      "text/plain": [
       "<AxesSubplot:xlabel='date', ylabel='visits_count'>"
      ]
     },
     "execution_count": 10,
     "metadata": {},
     "output_type": "execute_result"
    },
    {
     "data": {
      "image/png": "[encoded data removed]",
      "text/plain": [
       "<Figure size 864x576 with 1 Axes>"
      ]
     },
     "metadata": {},
     "output_type": "display_data"
    }
   ],
   "source": [
    "# Настройки графиков\n",
    "\n",
    "sns.set(style = 'whitegrid',\n",
    "       rc = {'figure.figsize': (12, 8)},\n",
    "       palette = 'gist_heat_r'\n",
    "        )\n",
    "# Построение графика\n",
    "sns.barplot(data = df, x = \"date\", y = \"visits_count\", hue = \"type\")"
   ]
  },
  {
   "cell_type": "markdown",
   "id": "657f6974",
   "metadata": {},
   "source": [
    "### Задание 2\n",
    "Скачайте файл с данными посещаемости сайта Яндекс.Метрика step_2_lesson_7.csv. При помощи функции np.where создайте серию, в которую будет записываться 1, если посещения были сделаны роботами с браузера, содержащего Chrome в названии и 0, в других случаях. Поместите получившуюся серию в переменную chrome_robots\n",
    "\n",
    "Hint: ответ должен быть в форме pd. Series\n",
    "\n",
    "Hint2: в numpy более жёсткие требования к логическим действиям чем в pandas - выражения должны быть окружены скобками и вместо or/and нужно писать | или &\n",
    "\n",
    "Может понадобиться:\n",
    "- str.contains( )"
   ]
  },
  {
   "cell_type": "code",
   "execution_count": 11,
   "id": "85389b91",
   "metadata": {},
   "outputs": [],
   "source": [
    "df_step_2 = pd.read_csv('/Users/ola/Documents/Karpov/7. Знакомство с API/step_2_lesson_7.csv')"
   ]
  },
  {
   "cell_type": "code",
   "execution_count": 12,
   "id": "c11cb043",
   "metadata": {},
   "outputs": [
    {
     "data": {
      "text/html": [
       "<div>\n",
       "<style scoped>\n",
       "    .dataframe tbody tr th:only-of-type {\n",
       "        vertical-align: middle;\n",
       "    }\n",
       "\n",
       "    .dataframe tbody tr th {\n",
       "        vertical-align: top;\n",
       "    }\n",
       "\n",
       "    .dataframe thead th {\n",
       "        text-align: right;\n",
       "    }\n",
       "</style>\n",
       "<table border=\"1\" class=\"dataframe\">\n",
       "  <thead>\n",
       "    <tr style=\"text-align: right;\">\n",
       "      <th></th>\n",
       "      <th>date</th>\n",
       "      <th>browser</th>\n",
       "      <th>user_type</th>\n",
       "      <th>visits</th>\n",
       "    </tr>\n",
       "  </thead>\n",
       "  <tbody>\n",
       "    <tr>\n",
       "      <th>0</th>\n",
       "      <td>2020-06-15</td>\n",
       "      <td>Google Chrome</td>\n",
       "      <td>People</td>\n",
       "      <td>250.0</td>\n",
       "    </tr>\n",
       "    <tr>\n",
       "      <th>1</th>\n",
       "      <td>2020-06-15</td>\n",
       "      <td>Google Chrome</td>\n",
       "      <td>Robots</td>\n",
       "      <td>104.0</td>\n",
       "    </tr>\n",
       "    <tr>\n",
       "      <th>2</th>\n",
       "      <td>2020-06-15</td>\n",
       "      <td>Yandex Browser</td>\n",
       "      <td>People</td>\n",
       "      <td>47.0</td>\n",
       "    </tr>\n",
       "    <tr>\n",
       "      <th>3</th>\n",
       "      <td>2020-06-15</td>\n",
       "      <td>Firefox</td>\n",
       "      <td>Robots</td>\n",
       "      <td>31.0</td>\n",
       "    </tr>\n",
       "    <tr>\n",
       "      <th>4</th>\n",
       "      <td>2020-06-15</td>\n",
       "      <td>Chrome Mobile</td>\n",
       "      <td>People</td>\n",
       "      <td>31.0</td>\n",
       "    </tr>\n",
       "  </tbody>\n",
       "</table>\n",
       "</div>"
      ],
      "text/plain": [
       "         date         browser user_type  visits\n",
       "0  2020-06-15   Google Chrome    People   250.0\n",
       "1  2020-06-15   Google Chrome    Robots   104.0\n",
       "2  2020-06-15  Yandex Browser    People    47.0\n",
       "3  2020-06-15         Firefox    Robots    31.0\n",
       "4  2020-06-15   Chrome Mobile    People    31.0"
      ]
     },
     "execution_count": 12,
     "metadata": {},
     "output_type": "execute_result"
    }
   ],
   "source": [
    "df_step_2.head()"
   ]
  },
  {
   "cell_type": "code",
   "execution_count": 13,
   "id": "cd974b38",
   "metadata": {},
   "outputs": [
    {
     "data": {
      "text/plain": [
       "array([0, 1, 0, 0, 0, 0, 0, 0, 0, 0, 0, 0, 0, 0, 0, 0, 0, 0, 0, 0, 0, 0,\n",
       "       0, 0])"
      ]
     },
     "execution_count": 13,
     "metadata": {},
     "output_type": "execute_result"
    }
   ],
   "source": [
    "# Запишем в переменную chrome_robots массив в котором будет 1,\n",
    "# если посещения были сделаны роботами с браузера, содержащего Chrome в названии и 0, в других случаях. \n",
    "\n",
    "chrome_robots = np.where((df_step_2['browser'].str.contains('Chrome')) & (df_step_2['user_type'] == 'Robots'), 1, 0)\n",
    "chrome_robots"
   ]
  },
  {
   "cell_type": "code",
   "execution_count": 14,
   "id": "bce87eb0",
   "metadata": {},
   "outputs": [
    {
     "data": {
      "text/plain": [
       "0     0\n",
       "1     1\n",
       "2     0\n",
       "3     0\n",
       "4     0\n",
       "5     0\n",
       "6     0\n",
       "7     0\n",
       "8     0\n",
       "9     0\n",
       "10    0\n",
       "11    0\n",
       "12    0\n",
       "13    0\n",
       "14    0\n",
       "15    0\n",
       "16    0\n",
       "17    0\n",
       "18    0\n",
       "19    0\n",
       "20    0\n",
       "21    0\n",
       "22    0\n",
       "23    0\n",
       "dtype: int64"
      ]
     },
     "execution_count": 14,
     "metadata": {},
     "output_type": "execute_result"
    }
   ],
   "source": [
    "# Преобразуем полученный массив к типу pd.Series и перезапишем в переменную chrome_robots\n",
    "\n",
    "chrome_robots = pd.Series(chrome_robots)\n",
    "chrome_robots"
   ]
  },
  {
   "cell_type": "markdown",
   "id": "6cd52801",
   "metadata": {},
   "source": [
    "### Задание 3\n",
    "\n",
    "Давайте выясним, с какого браузера приходит меньше всего ботов. Посмотрите на данные за 10 декабря (2022-12-10) и определите, у какого браузера самая маленькая доля посещений сайта ботами от общего числа посещений?\n",
    "В качестве ответа укажите название браузера.\n",
    "\n",
    "Hint: а тут нужны все параметры, которые мы использовали до этого\n",
    "\n",
    "Hint2: то есть фильтр по дате, browser, isRobot тут нужны все параметры, которые мы использовали до этого"
   ]
  },
  {
   "cell_type": "markdown",
   "id": "225fad00",
   "metadata": {},
   "source": [
    "#### 1. Импорт данных"
   ]
  },
  {
   "cell_type": "code",
   "execution_count": 15,
   "id": "12e83928",
   "metadata": {},
   "outputs": [],
   "source": [
    "# Зададим параметры, добавляющиеся к базовой ссылке\n",
    "\n",
    "params = {\n",
    "                'metrics': 'ym:s:visits',\n",
    "                'dimensions': ['ym:s:date', 'ym:s:isRobot', 'ym:s:browser'],\n",
    "                'filters': f\"ym:s:date=='2022-12-10'\",\n",
    "                'id': 44147844\n",
    "        }"
   ]
  },
  {
   "cell_type": "code",
   "execution_count": 16,
   "id": "0c8d9af1",
   "metadata": {},
   "outputs": [],
   "source": [
    "visits_per_browser = urlencode(params, doseq = True) # doseq = True, тк есть список параметров"
   ]
  },
  {
   "cell_type": "code",
   "execution_count": 17,
   "id": "894bb3ad",
   "metadata": {},
   "outputs": [],
   "source": [
    "link = url + visits_per_browser"
   ]
  },
  {
   "cell_type": "code",
   "execution_count": 18,
   "id": "5c5332b0",
   "metadata": {},
   "outputs": [],
   "source": [
    "# Получаем ответ после перехода на ссылку\n",
    "\n",
    "response = requests.get(link)"
   ]
  },
  {
   "cell_type": "code",
   "execution_count": 19,
   "id": "0b805468",
   "metadata": {},
   "outputs": [],
   "source": [
    "# Преобразуем полученный ответ в json формат\n",
    "\n",
    "json_data = response.json()"
   ]
  },
  {
   "cell_type": "code",
   "execution_count": 20,
   "id": "61ff7970",
   "metadata": {},
   "outputs": [],
   "source": [
    "# Cоздаем пустой датафрейм\n",
    "\n",
    "visits_per_browser_df = pd.DataFrame()"
   ]
  },
  {
   "cell_type": "code",
   "execution_count": 21,
   "id": "06f031e6",
   "metadata": {},
   "outputs": [],
   "source": [
    "for record in json_data['data']:\n",
    "        \n",
    "        # Создаем список, где 0 элемент - дата, 1 - тип пользователя, 2 - браузер, 3 - количество посетителей \n",
    "        #(для каждой итерации чистится)\n",
    "        lst = []\n",
    "        \n",
    "        dimensions_data = record['dimensions'] \n",
    "        metriq_data = record['metrics'][0]\n",
    "\n",
    "        for i in dimensions_data:\n",
    "            lst.append(i['name']) # добавляем в список сначала дату, потом тип пользователя\n",
    "        \n",
    "        lst.append(metriq_data) # добавляем в список количество посетителей\n",
    "        \n",
    "        \n",
    "        # Добавляем новую строчку в датафрейм \n",
    "        visits_per_browser_df = visits_per_browser_df.append([lst])"
   ]
  },
  {
   "cell_type": "code",
   "execution_count": 22,
   "id": "58f59dcf",
   "metadata": {},
   "outputs": [],
   "source": [
    "# Дадим названия столбцам\n",
    "\n",
    "visits_per_browser_df.columns = ['date', 'user_type', 'browser', 'visits']"
   ]
  },
  {
   "cell_type": "markdown",
   "id": "9959a4e8",
   "metadata": {},
   "source": [
    "#### 2. Узнаем, с какого браузера приходит меньше всего  ботов"
   ]
  },
  {
   "cell_type": "code",
   "execution_count": 23,
   "id": "803a3ca8",
   "metadata": {},
   "outputs": [
    {
     "data": {
      "text/html": [
       "<div>\n",
       "<style scoped>\n",
       "    .dataframe tbody tr th:only-of-type {\n",
       "        vertical-align: middle;\n",
       "    }\n",
       "\n",
       "    .dataframe tbody tr th {\n",
       "        vertical-align: top;\n",
       "    }\n",
       "\n",
       "    .dataframe thead th {\n",
       "        text-align: right;\n",
       "    }\n",
       "</style>\n",
       "<table border=\"1\" class=\"dataframe\">\n",
       "  <thead>\n",
       "    <tr style=\"text-align: right;\">\n",
       "      <th></th>\n",
       "      <th>date</th>\n",
       "      <th>user_type</th>\n",
       "      <th>browser</th>\n",
       "      <th>visits</th>\n",
       "    </tr>\n",
       "  </thead>\n",
       "  <tbody>\n",
       "    <tr>\n",
       "      <th>0</th>\n",
       "      <td>2022-12-10</td>\n",
       "      <td>People</td>\n",
       "      <td>Chrome Mobile</td>\n",
       "      <td>114.0</td>\n",
       "    </tr>\n",
       "    <tr>\n",
       "      <th>0</th>\n",
       "      <td>2022-12-10</td>\n",
       "      <td>People</td>\n",
       "      <td>Google Chrome</td>\n",
       "      <td>102.0</td>\n",
       "    </tr>\n",
       "    <tr>\n",
       "      <th>0</th>\n",
       "      <td>2022-12-10</td>\n",
       "      <td>People</td>\n",
       "      <td>Yandex Browser</td>\n",
       "      <td>67.0</td>\n",
       "    </tr>\n",
       "    <tr>\n",
       "      <th>0</th>\n",
       "      <td>2022-12-10</td>\n",
       "      <td>People</td>\n",
       "      <td>Safari</td>\n",
       "      <td>27.0</td>\n",
       "    </tr>\n",
       "    <tr>\n",
       "      <th>0</th>\n",
       "      <td>2022-12-10</td>\n",
       "      <td>People</td>\n",
       "      <td>Mobile Safari</td>\n",
       "      <td>13.0</td>\n",
       "    </tr>\n",
       "  </tbody>\n",
       "</table>\n",
       "</div>"
      ],
      "text/plain": [
       "         date user_type         browser  visits\n",
       "0  2022-12-10    People   Chrome Mobile   114.0\n",
       "0  2022-12-10    People   Google Chrome   102.0\n",
       "0  2022-12-10    People  Yandex Browser    67.0\n",
       "0  2022-12-10    People          Safari    27.0\n",
       "0  2022-12-10    People   Mobile Safari    13.0"
      ]
     },
     "execution_count": 23,
     "metadata": {},
     "output_type": "execute_result"
    }
   ],
   "source": [
    "visits_per_browser_df.head()"
   ]
  },
  {
   "cell_type": "code",
   "execution_count": 24,
   "id": "2cf7c176",
   "metadata": {},
   "outputs": [
    {
     "data": {
      "text/html": [
       "<div>\n",
       "<style scoped>\n",
       "    .dataframe tbody tr th:only-of-type {\n",
       "        vertical-align: middle;\n",
       "    }\n",
       "\n",
       "    .dataframe tbody tr th {\n",
       "        vertical-align: top;\n",
       "    }\n",
       "\n",
       "    .dataframe thead th {\n",
       "        text-align: right;\n",
       "    }\n",
       "</style>\n",
       "<table border=\"1\" class=\"dataframe\">\n",
       "  <thead>\n",
       "    <tr style=\"text-align: right;\">\n",
       "      <th></th>\n",
       "      <th>browser</th>\n",
       "      <th>visits</th>\n",
       "    </tr>\n",
       "  </thead>\n",
       "  <tbody>\n",
       "    <tr>\n",
       "      <th>0</th>\n",
       "      <td>Android Browser</td>\n",
       "      <td>2.0</td>\n",
       "    </tr>\n",
       "    <tr>\n",
       "      <th>1</th>\n",
       "      <td>Atom</td>\n",
       "      <td>1.0</td>\n",
       "    </tr>\n",
       "    <tr>\n",
       "      <th>2</th>\n",
       "      <td>Chrome Mobile</td>\n",
       "      <td>124.0</td>\n",
       "    </tr>\n",
       "    <tr>\n",
       "      <th>3</th>\n",
       "      <td>Edge</td>\n",
       "      <td>14.0</td>\n",
       "    </tr>\n",
       "    <tr>\n",
       "      <th>4</th>\n",
       "      <td>Firefox</td>\n",
       "      <td>10.0</td>\n",
       "    </tr>\n",
       "  </tbody>\n",
       "</table>\n",
       "</div>"
      ],
      "text/plain": [
       "           browser  visits\n",
       "0  Android Browser     2.0\n",
       "1             Atom     1.0\n",
       "2    Chrome Mobile   124.0\n",
       "3             Edge    14.0\n",
       "4          Firefox    10.0"
      ]
     },
     "execution_count": 24,
     "metadata": {},
     "output_type": "execute_result"
    }
   ],
   "source": [
    "# Посчитаем общее количество визитов на сайт для каждого браузера\n",
    "\n",
    "all_visits_df = visits_per_browser_df.groupby('browser', as_index = False).agg({'visits': 'sum'})\n",
    "all_visits_df.head()"
   ]
  },
  {
   "cell_type": "code",
   "execution_count": 25,
   "id": "0a5ba8ce",
   "metadata": {},
   "outputs": [],
   "source": [
    "# Добавим в visits_per_browser_df данные об общем количестве визитов на сайт для каждого браузера\n",
    "# в качестве столбца all_visits_df\n",
    "\n",
    "visits_per_browser_df = visits_per_browser_df \\\n",
    "                                            .merge(all_visits_df, on = 'browser') \\\n",
    "                                            .rename(columns = {'visits_x': 'visits', 'visits_y': 'all_visits'})"
   ]
  },
  {
   "cell_type": "code",
   "execution_count": 26,
   "id": "4bc99815",
   "metadata": {},
   "outputs": [],
   "source": [
    "# Создадим колонку с долей посещений сайта\n",
    "\n",
    "visits_per_browser_df['ratio'] = visits_per_browser_df['visits'] / visits_per_browser_df['all_visits']"
   ]
  },
  {
   "cell_type": "code",
   "execution_count": 27,
   "id": "c7e2cd49",
   "metadata": {},
   "outputs": [
    {
     "data": {
      "text/html": [
       "<div>\n",
       "<style scoped>\n",
       "    .dataframe tbody tr th:only-of-type {\n",
       "        vertical-align: middle;\n",
       "    }\n",
       "\n",
       "    .dataframe tbody tr th {\n",
       "        vertical-align: top;\n",
       "    }\n",
       "\n",
       "    .dataframe thead th {\n",
       "        text-align: right;\n",
       "    }\n",
       "</style>\n",
       "<table border=\"1\" class=\"dataframe\">\n",
       "  <thead>\n",
       "    <tr style=\"text-align: right;\">\n",
       "      <th></th>\n",
       "      <th>date</th>\n",
       "      <th>user_type</th>\n",
       "      <th>browser</th>\n",
       "      <th>visits</th>\n",
       "      <th>all_visits</th>\n",
       "      <th>ratio</th>\n",
       "    </tr>\n",
       "  </thead>\n",
       "  <tbody>\n",
       "    <tr>\n",
       "      <th>5</th>\n",
       "      <td>2022-12-10</td>\n",
       "      <td>Robots</td>\n",
       "      <td>Yandex Browser</td>\n",
       "      <td>3.0</td>\n",
       "      <td>70.0</td>\n",
       "      <td>0.042857</td>\n",
       "    </tr>\n",
       "    <tr>\n",
       "      <th>3</th>\n",
       "      <td>2022-12-10</td>\n",
       "      <td>Robots</td>\n",
       "      <td>Google Chrome</td>\n",
       "      <td>5.0</td>\n",
       "      <td>107.0</td>\n",
       "      <td>0.046729</td>\n",
       "    </tr>\n",
       "    <tr>\n",
       "      <th>8</th>\n",
       "      <td>2022-12-10</td>\n",
       "      <td>Robots</td>\n",
       "      <td>Mobile Safari</td>\n",
       "      <td>1.0</td>\n",
       "      <td>14.0</td>\n",
       "      <td>0.071429</td>\n",
       "    </tr>\n",
       "    <tr>\n",
       "      <th>1</th>\n",
       "      <td>2022-12-10</td>\n",
       "      <td>Robots</td>\n",
       "      <td>Chrome Mobile</td>\n",
       "      <td>10.0</td>\n",
       "      <td>124.0</td>\n",
       "      <td>0.080645</td>\n",
       "    </tr>\n",
       "    <tr>\n",
       "      <th>14</th>\n",
       "      <td>2022-12-10</td>\n",
       "      <td>Robots</td>\n",
       "      <td>Firefox</td>\n",
       "      <td>1.0</td>\n",
       "      <td>10.0</td>\n",
       "      <td>0.100000</td>\n",
       "    </tr>\n",
       "    <tr>\n",
       "      <th>11</th>\n",
       "      <td>2022-12-10</td>\n",
       "      <td>Robots</td>\n",
       "      <td>Edge</td>\n",
       "      <td>3.0</td>\n",
       "      <td>14.0</td>\n",
       "      <td>0.214286</td>\n",
       "    </tr>\n",
       "    <tr>\n",
       "      <th>16</th>\n",
       "      <td>2022-12-10</td>\n",
       "      <td>Robots</td>\n",
       "      <td>Yandex Start: mobile app</td>\n",
       "      <td>2.0</td>\n",
       "      <td>8.0</td>\n",
       "      <td>0.250000</td>\n",
       "    </tr>\n",
       "    <tr>\n",
       "      <th>20</th>\n",
       "      <td>2022-12-10</td>\n",
       "      <td>Robots</td>\n",
       "      <td>Android Browser</td>\n",
       "      <td>1.0</td>\n",
       "      <td>2.0</td>\n",
       "      <td>0.500000</td>\n",
       "    </tr>\n",
       "    <tr>\n",
       "      <th>24</th>\n",
       "      <td>2022-12-10</td>\n",
       "      <td>Robots</td>\n",
       "      <td>Яндекс.Браузер lite</td>\n",
       "      <td>1.0</td>\n",
       "      <td>1.0</td>\n",
       "      <td>1.000000</td>\n",
       "    </tr>\n",
       "    <tr>\n",
       "      <th>25</th>\n",
       "      <td>2022-12-10</td>\n",
       "      <td>Robots</td>\n",
       "      <td>HeadlessChrome</td>\n",
       "      <td>1.0</td>\n",
       "      <td>1.0</td>\n",
       "      <td>1.000000</td>\n",
       "    </tr>\n",
       "  </tbody>\n",
       "</table>\n",
       "</div>"
      ],
      "text/plain": [
       "          date user_type                   browser  visits  all_visits  \\\n",
       "5   2022-12-10    Robots            Yandex Browser     3.0        70.0   \n",
       "3   2022-12-10    Robots             Google Chrome     5.0       107.0   \n",
       "8   2022-12-10    Robots             Mobile Safari     1.0        14.0   \n",
       "1   2022-12-10    Robots             Chrome Mobile    10.0       124.0   \n",
       "14  2022-12-10    Robots                   Firefox     1.0        10.0   \n",
       "11  2022-12-10    Robots                      Edge     3.0        14.0   \n",
       "16  2022-12-10    Robots  Yandex Start: mobile app     2.0         8.0   \n",
       "20  2022-12-10    Robots           Android Browser     1.0         2.0   \n",
       "24  2022-12-10    Robots       Яндекс.Браузер lite     1.0         1.0   \n",
       "25  2022-12-10    Robots            HeadlessChrome     1.0         1.0   \n",
       "\n",
       "       ratio  \n",
       "5   0.042857  \n",
       "3   0.046729  \n",
       "8   0.071429  \n",
       "1   0.080645  \n",
       "14  0.100000  \n",
       "11  0.214286  \n",
       "16  0.250000  \n",
       "20  0.500000  \n",
       "24  1.000000  \n",
       "25  1.000000  "
      ]
     },
     "execution_count": 27,
     "metadata": {},
     "output_type": "execute_result"
    }
   ],
   "source": [
    "# Отберем только данные, где user_type == Robots и отстортируем по возрастанию доли посещений\n",
    "\n",
    "visits_per_browser_df \\\n",
    "                        .query('user_type == \"Robots\"') \\\n",
    "                        .sort_values('ratio')\n",
    "                        #.nsmallest (1, columns = 'ratio')\n"
   ]
  },
  {
   "cell_type": "markdown",
   "id": "7a4d7501",
   "metadata": {},
   "source": [
    "Самая маленькая доля посещений сайта ботами от общего числа посещений приходится на Yandex Browser"
   ]
  },
  {
   "cell_type": "markdown",
   "id": "f1662329",
   "metadata": {},
   "source": [
    "### Задание 4\n",
    "\n",
    "Сагрегируйте данные по дню, типу пользователя, браузеру, создайте колонку с метрикой доли заходов на сайт для каждого из этих разрезов.\n",
    "\n",
    "В ответе укажите процент открытий сайта настоящими пользователями Safari (не ботами) с точностью до 1 знака после точки.\n",
    "\n",
    "PS: Данные нужны за 10 декабря"
   ]
  },
  {
   "cell_type": "markdown",
   "id": "3ead8928",
   "metadata": {},
   "source": [
    "Заметим, что данные в датафрейме visits_per_browser_df уже сагрегированы. В нем есть колонка ratio, в которой расчитана доля посещений для конкретного браузера. Сейчас же нужно найти долю посещений от общего числа посещений за весь день."
   ]
  },
  {
   "cell_type": "code",
   "execution_count": 28,
   "id": "5b8bf419",
   "metadata": {},
   "outputs": [],
   "source": [
    "# Добавим колонку percent, где будет записан процент посещений от общего количества посещений за 10 декабря\n",
    "\n",
    "visits_per_browser_df['percent'] = (visits_per_browser_df['visits'] / visits_per_browser_df.visits.sum()) * 100"
   ]
  },
  {
   "cell_type": "code",
   "execution_count": 29,
   "id": "b2a476e1",
   "metadata": {},
   "outputs": [
    {
     "data": {
      "text/plain": [
       "6    6.6\n",
       "Name: percent, dtype: float64"
      ]
     },
     "execution_count": 29,
     "metadata": {},
     "output_type": "execute_result"
    }
   ],
   "source": [
    "# Найдем процент открытий сайта настоящими пользователями Safari с точностью до 1 знака после точки\n",
    "\n",
    "visits_per_browser_df.query('user_type == \"People\" and browser == \"Safari\"')['percent'].round(1)"
   ]
  },
  {
   "cell_type": "markdown",
   "id": "e1afdd8f",
   "metadata": {},
   "source": [
    "### Задание 5\n",
    "\n",
    "При помощи библиотеки gspread отправьте данные из предыдущего шага в Google SpreadSheet. Далее отправьте ссылку на получившийся файл в Google SpreadSheet (не забудьте открыть доступ по ссылке, это можно сделать\n",
    "вручную, когда данные уже зальются в таблицу) при помощи vк арі себе в личку ВКонтакте.\n",
    "\n",
    "https://machinelearningmastery.ru/using-python-to-push-your-pandas-dataframe-to-google-sheets-de69422508f/"
   ]
  },
  {
   "cell_type": "markdown",
   "id": "a09987f2",
   "metadata": {},
   "source": [
    "#### 1. Выгрузим датафрейм в Google Sheets"
   ]
  },
  {
   "cell_type": "code",
   "execution_count": 38,
   "id": "2b55a80c",
   "metadata": {},
   "outputs": [],
   "source": [
    "# Ссылка для получения доступа к гугл диск\n",
    "\n",
    "scope = ['https://spreadsheets.google.com/feeds',\n",
    "         'https://www.googleapis.com/auth/drive']\n",
    "\n",
    "my_mail = 'olyabazan333@gmail.com'\n",
    "\n",
    "# Авторизация\n",
    "\n",
    "credentials = ServiceAccountCredentials.from_json_keyfile_name('jsonFileFromGoogle.json', scope)\n",
    "gc = gspread.authorize(credentials)"
   ]
  },
  {
   "cell_type": "code",
   "execution_count": 31,
   "id": "b60c5131",
   "metadata": {},
   "outputs": [
    {
     "data": {
      "text/plain": [
       "<gspread.client.Client at 0x7fe254de7d00>"
      ]
     },
     "execution_count": 31,
     "metadata": {},
     "output_type": "execute_result"
    }
   ],
   "source": [
    "gc"
   ]
  },
  {
   "cell_type": "code",
   "execution_count": 32,
   "id": "de41c616",
   "metadata": {},
   "outputs": [],
   "source": [
    "# Ключ к гугл таблице (если создаем вручную)\n",
    "\n",
    "spreadsheet_key = '1hijta8sMLQK5w_Q4Y8d9GmhdGukRDrZjBPNxjTXNVEc'"
   ]
  },
  {
   "cell_type": "code",
   "execution_count": 33,
   "id": "9aee5aba",
   "metadata": {},
   "outputs": [
    {
     "data": {
      "text/plain": [
       "<Worksheet 'Лист1' id:0>"
      ]
     },
     "execution_count": 33,
     "metadata": {},
     "output_type": "execute_result"
    }
   ],
   "source": [
    "# Выгрузка датафрейма в гугл таблицу\n",
    "\n",
    "d2g.upload(visits_per_browser_df,\n",
    "           spreadsheet_key,\n",
    "           credentials = credentials,\n",
    "           row_names = True)"
   ]
  },
  {
   "cell_type": "code",
   "execution_count": 34,
   "id": "a0a9d596",
   "metadata": {},
   "outputs": [],
   "source": [
    "# Название таблицы\n",
    "\n",
    "\n",
    "table_name = 'API test Py'"
   ]
  },
  {
   "cell_type": "code",
   "execution_count": 36,
   "id": "2c5d65bd",
   "metadata": {},
   "outputs": [
    {
     "data": {
      "text/plain": [
       "<Spreadsheet 'API test Py' id:1SuciuAxKHWGeN99yf-CWw7xYjdSfJNYoO-PLp173sFw>"
      ]
     },
     "execution_count": 36,
     "metadata": {},
     "output_type": "execute_result"
    }
   ],
   "source": [
    "# Создание гугл таблицы \n",
    "\n",
    "gc.create(table_name)"
   ]
  },
  {
   "cell_type": "code",
   "execution_count": 42,
   "id": "1aeef8d7",
   "metadata": {},
   "outputs": [],
   "source": [
    "# Открыть таблицу\n",
    "\n",
    "table = gc.open(table_name)"
   ]
  },
  {
   "cell_type": "code",
   "execution_count": 43,
   "id": "84e14d8f",
   "metadata": {},
   "outputs": [
    {
     "data": {
      "text/plain": [
       "<Response [200]>"
      ]
     },
     "execution_count": 43,
     "metadata": {},
     "output_type": "execute_result"
    }
   ],
   "source": [
    "# Открыть доступ к таблице\n",
    "\n",
    "table.share(my_mail, perm_type = 'user', role = 'writer')"
   ]
  },
  {
   "cell_type": "code",
   "execution_count": 45,
   "id": "6a020a8a",
   "metadata": {},
   "outputs": [
    {
     "data": {
      "text/plain": [
       "<Worksheet 'list1' id:1074597171>"
      ]
     },
     "execution_count": 45,
     "metadata": {},
     "output_type": "execute_result"
    }
   ],
   "source": [
    "# Выгрузка датафрейма в гугл таблицу\n",
    "\n",
    "d2g.upload(visits_per_browser_df,\n",
    "           table_name,\n",
    "           'list1',\n",
    "           credentials = credentials,\n",
    "           row_names = True)"
   ]
  },
  {
   "cell_type": "markdown",
   "id": "79cdaa00",
   "metadata": {},
   "source": [
    "#### 2. Отправим ссылку на таблицу в ВК"
   ]
  },
  {
   "cell_type": "code",
   "execution_count": 47,
   "id": "be986165",
   "metadata": {},
   "outputs": [],
   "source": [
    "# Запишем в переменную token ключ доступа\n",
    "\n",
    "token = ''"
   ]
  },
  {
   "cell_type": "code",
   "execution_count": 49,
   "id": "1afcd013",
   "metadata": {},
   "outputs": [],
   "source": [
    "# Подключение к vk.com\n",
    "\n",
    "vk_session = vk_api.VkApi(token = token)\n",
    "vk = vk_session.get_api() # позволяет оръбращаться к методам ВК"
   ]
  },
  {
   "cell_type": "code",
   "execution_count": 52,
   "id": "2103efa8",
   "metadata": {},
   "outputs": [
    {
     "data": {
      "text/plain": [
       "0"
      ]
     },
     "execution_count": 52,
     "metadata": {},
     "output_type": "execute_result"
    }
   ],
   "source": [
    "# Отправим сообщение от лица группы\n",
    "\n",
    "vk.messages.send(\n",
    "        chat_id = 1,\n",
    "        random_id = np.random.randint(0, 2 ** 31),\n",
    "        message = \"https://docs.google.com/spreadsheets/d/1SuciuAxKHWGeN99yf-CWw7xYjdSfJNYoO-PLp173sFw/edit?usp=sharing!\"\n",
    "                                     )"
   ]
  },
  {
   "cell_type": "markdown",
   "id": "9877140d",
   "metadata": {},
   "source": [
    "### Задание 6\n",
    "Другой аналитик уже агрегировал часть данных из метрики, и вам нужно объединить усилия, чтобы получить финальный отчет. Прочитайте дополнительные данные из Google SpreadSheet, объедините вашу таблицу из предыдущего шага с таблицей аналитика и посчитайте количество визитов на человека (отношение visits K users ) в разрезе по браузеру и значениям Robots/People.\n",
    "\n",
    "В ответе укажите, сколько визитов на уникального пользователя совершается ботами с браузера Google Chrome (округлите до целого)\n",
    "\n",
    "Вот так можно прочитать данные другого аналитика:"
   ]
  },
  {
   "cell_type": "raw",
   "id": "e2ad9b48",
   "metadata": {},
   "source": [
    "from io import BytesIO\n",
    "import requests\n",
    "\n",
    "r = requests.get(\"https://docs.google.com/spreadsheets/d/e/2PACX-1vQWMsBTVio9C7I00xfF09C15BRHyME-\n",
    "_ENHqBodDOjuiHwk9fCuF5hUmDs497PZ0qPYK3exdSikOK/pub?gid=1006633900&single=true&output=csv\")\n",
    "\n",
    "data = r. content\n",
    "\n",
    "df = pd.read_csv(BytesI0(data))"
   ]
  },
  {
   "cell_type": "code",
   "execution_count": 56,
   "id": "0625b119",
   "metadata": {},
   "outputs": [],
   "source": [
    "r = requests.get('https://docs.google.com/spreadsheets/d/e/2PACX-1vQWMsvBTVio9C7IOOxfFO9C15BRHyME-_ENHqBodDOjuiHwk9fCuF5hUVmDs497PZOqPYK3exdSikOK/pub?gid=1006633900&single=true&output=csv')"
   ]
  },
  {
   "cell_type": "code",
   "execution_count": 59,
   "id": "722bdfcb",
   "metadata": {},
   "outputs": [],
   "source": [
    "data = r.content"
   ]
  },
  {
   "cell_type": "code",
   "execution_count": 62,
   "id": "26762a6a",
   "metadata": {},
   "outputs": [],
   "source": [
    "df_from_analyst = pd.read_csv(BytesIO(data))"
   ]
  },
  {
   "cell_type": "code",
   "execution_count": 69,
   "id": "bdec90c3",
   "metadata": {},
   "outputs": [],
   "source": [
    "# Исправим ошибку в дате\n",
    "\n",
    "df_from_analyst['date'] = df_from_analyst['date'].replace('2020-06-15', '2022-12-10')"
   ]
  },
  {
   "cell_type": "code",
   "execution_count": 79,
   "id": "75328194",
   "metadata": {},
   "outputs": [],
   "source": [
    "# Объеденим датафреймы и перезапишем в visits_per_browser\n",
    "\n",
    "visits_per_browser = visits_per_browser_df.merge(df_from_analyst, on = ['date', 'browser', 'user_type'])"
   ]
  },
  {
   "cell_type": "code",
   "execution_count": 83,
   "id": "ae268240",
   "metadata": {},
   "outputs": [],
   "source": [
    "# Запишеv в колонку ratio_of_users_to_visits отношение пользователей к визитам\n",
    "\n",
    "visits_per_browser['ratio_of_users_to_visits'] = visits_per_browser['users'] / visits_per_browser['visits']"
   ]
  },
  {
   "cell_type": "code",
   "execution_count": 84,
   "id": "cced5a88",
   "metadata": {},
   "outputs": [
    {
     "data": {
      "text/html": [
       "<div>\n",
       "<style scoped>\n",
       "    .dataframe tbody tr th:only-of-type {\n",
       "        vertical-align: middle;\n",
       "    }\n",
       "\n",
       "    .dataframe tbody tr th {\n",
       "        vertical-align: top;\n",
       "    }\n",
       "\n",
       "    .dataframe thead th {\n",
       "        text-align: right;\n",
       "    }\n",
       "</style>\n",
       "<table border=\"1\" class=\"dataframe\">\n",
       "  <thead>\n",
       "    <tr style=\"text-align: right;\">\n",
       "      <th></th>\n",
       "      <th>date</th>\n",
       "      <th>user_type</th>\n",
       "      <th>browser</th>\n",
       "      <th>visits</th>\n",
       "      <th>all_visits</th>\n",
       "      <th>ratio</th>\n",
       "      <th>percent</th>\n",
       "      <th>users</th>\n",
       "      <th>ratio_of_users_to_visits</th>\n",
       "    </tr>\n",
       "  </thead>\n",
       "  <tbody>\n",
       "    <tr>\n",
       "      <th>0</th>\n",
       "      <td>2022-12-10</td>\n",
       "      <td>People</td>\n",
       "      <td>Chrome Mobile</td>\n",
       "      <td>114.0</td>\n",
       "      <td>124.0</td>\n",
       "      <td>0.919355</td>\n",
       "      <td>27.872861</td>\n",
       "      <td>30.0</td>\n",
       "      <td>0.263158</td>\n",
       "    </tr>\n",
       "    <tr>\n",
       "      <th>1</th>\n",
       "      <td>2022-12-10</td>\n",
       "      <td>People</td>\n",
       "      <td>Google Chrome</td>\n",
       "      <td>102.0</td>\n",
       "      <td>107.0</td>\n",
       "      <td>0.953271</td>\n",
       "      <td>24.938875</td>\n",
       "      <td>240.0</td>\n",
       "      <td>2.352941</td>\n",
       "    </tr>\n",
       "    <tr>\n",
       "      <th>2</th>\n",
       "      <td>2022-12-10</td>\n",
       "      <td>Robots</td>\n",
       "      <td>Google Chrome</td>\n",
       "      <td>5.0</td>\n",
       "      <td>107.0</td>\n",
       "      <td>0.046729</td>\n",
       "      <td>1.222494</td>\n",
       "      <td>104.0</td>\n",
       "      <td>20.800000</td>\n",
       "    </tr>\n",
       "    <tr>\n",
       "      <th>3</th>\n",
       "      <td>2022-12-10</td>\n",
       "      <td>People</td>\n",
       "      <td>Yandex Browser</td>\n",
       "      <td>67.0</td>\n",
       "      <td>70.0</td>\n",
       "      <td>0.957143</td>\n",
       "      <td>16.381418</td>\n",
       "      <td>44.0</td>\n",
       "      <td>0.656716</td>\n",
       "    </tr>\n",
       "    <tr>\n",
       "      <th>4</th>\n",
       "      <td>2022-12-10</td>\n",
       "      <td>Robots</td>\n",
       "      <td>Yandex Browser</td>\n",
       "      <td>3.0</td>\n",
       "      <td>70.0</td>\n",
       "      <td>0.042857</td>\n",
       "      <td>0.733496</td>\n",
       "      <td>7.0</td>\n",
       "      <td>2.333333</td>\n",
       "    </tr>\n",
       "    <tr>\n",
       "      <th>5</th>\n",
       "      <td>2022-12-10</td>\n",
       "      <td>People</td>\n",
       "      <td>Safari</td>\n",
       "      <td>27.0</td>\n",
       "      <td>27.0</td>\n",
       "      <td>1.000000</td>\n",
       "      <td>6.601467</td>\n",
       "      <td>17.0</td>\n",
       "      <td>0.629630</td>\n",
       "    </tr>\n",
       "    <tr>\n",
       "      <th>6</th>\n",
       "      <td>2022-12-10</td>\n",
       "      <td>People</td>\n",
       "      <td>Mobile Safari</td>\n",
       "      <td>13.0</td>\n",
       "      <td>14.0</td>\n",
       "      <td>0.928571</td>\n",
       "      <td>3.178484</td>\n",
       "      <td>14.0</td>\n",
       "      <td>1.076923</td>\n",
       "    </tr>\n",
       "    <tr>\n",
       "      <th>7</th>\n",
       "      <td>2022-12-10</td>\n",
       "      <td>Robots</td>\n",
       "      <td>Mobile Safari</td>\n",
       "      <td>1.0</td>\n",
       "      <td>14.0</td>\n",
       "      <td>0.071429</td>\n",
       "      <td>0.244499</td>\n",
       "      <td>1.0</td>\n",
       "      <td>1.000000</td>\n",
       "    </tr>\n",
       "    <tr>\n",
       "      <th>8</th>\n",
       "      <td>2022-12-10</td>\n",
       "      <td>People</td>\n",
       "      <td>Opera</td>\n",
       "      <td>12.0</td>\n",
       "      <td>12.0</td>\n",
       "      <td>1.000000</td>\n",
       "      <td>2.933985</td>\n",
       "      <td>10.0</td>\n",
       "      <td>0.833333</td>\n",
       "    </tr>\n",
       "    <tr>\n",
       "      <th>9</th>\n",
       "      <td>2022-12-10</td>\n",
       "      <td>People</td>\n",
       "      <td>Edge</td>\n",
       "      <td>11.0</td>\n",
       "      <td>14.0</td>\n",
       "      <td>0.785714</td>\n",
       "      <td>2.689487</td>\n",
       "      <td>4.0</td>\n",
       "      <td>0.363636</td>\n",
       "    </tr>\n",
       "    <tr>\n",
       "      <th>10</th>\n",
       "      <td>2022-12-10</td>\n",
       "      <td>Robots</td>\n",
       "      <td>Edge</td>\n",
       "      <td>3.0</td>\n",
       "      <td>14.0</td>\n",
       "      <td>0.214286</td>\n",
       "      <td>0.733496</td>\n",
       "      <td>1.0</td>\n",
       "      <td>0.333333</td>\n",
       "    </tr>\n",
       "    <tr>\n",
       "      <th>11</th>\n",
       "      <td>2022-12-10</td>\n",
       "      <td>People</td>\n",
       "      <td>Samsung Internet</td>\n",
       "      <td>10.0</td>\n",
       "      <td>10.0</td>\n",
       "      <td>1.000000</td>\n",
       "      <td>2.444988</td>\n",
       "      <td>8.0</td>\n",
       "      <td>0.800000</td>\n",
       "    </tr>\n",
       "    <tr>\n",
       "      <th>12</th>\n",
       "      <td>2022-12-10</td>\n",
       "      <td>People</td>\n",
       "      <td>Firefox</td>\n",
       "      <td>9.0</td>\n",
       "      <td>10.0</td>\n",
       "      <td>0.900000</td>\n",
       "      <td>2.200489</td>\n",
       "      <td>26.0</td>\n",
       "      <td>2.888889</td>\n",
       "    </tr>\n",
       "    <tr>\n",
       "      <th>13</th>\n",
       "      <td>2022-12-10</td>\n",
       "      <td>Robots</td>\n",
       "      <td>Firefox</td>\n",
       "      <td>1.0</td>\n",
       "      <td>10.0</td>\n",
       "      <td>0.100000</td>\n",
       "      <td>0.244499</td>\n",
       "      <td>29.0</td>\n",
       "      <td>29.000000</td>\n",
       "    </tr>\n",
       "    <tr>\n",
       "      <th>14</th>\n",
       "      <td>2022-12-10</td>\n",
       "      <td>People</td>\n",
       "      <td>Android Browser</td>\n",
       "      <td>1.0</td>\n",
       "      <td>2.0</td>\n",
       "      <td>0.500000</td>\n",
       "      <td>0.244499</td>\n",
       "      <td>1.0</td>\n",
       "      <td>1.000000</td>\n",
       "    </tr>\n",
       "  </tbody>\n",
       "</table>\n",
       "</div>"
      ],
      "text/plain": [
       "          date user_type           browser  visits  all_visits     ratio  \\\n",
       "0   2022-12-10    People     Chrome Mobile   114.0       124.0  0.919355   \n",
       "1   2022-12-10    People     Google Chrome   102.0       107.0  0.953271   \n",
       "2   2022-12-10    Robots     Google Chrome     5.0       107.0  0.046729   \n",
       "3   2022-12-10    People    Yandex Browser    67.0        70.0  0.957143   \n",
       "4   2022-12-10    Robots    Yandex Browser     3.0        70.0  0.042857   \n",
       "5   2022-12-10    People            Safari    27.0        27.0  1.000000   \n",
       "6   2022-12-10    People     Mobile Safari    13.0        14.0  0.928571   \n",
       "7   2022-12-10    Robots     Mobile Safari     1.0        14.0  0.071429   \n",
       "8   2022-12-10    People             Opera    12.0        12.0  1.000000   \n",
       "9   2022-12-10    People              Edge    11.0        14.0  0.785714   \n",
       "10  2022-12-10    Robots              Edge     3.0        14.0  0.214286   \n",
       "11  2022-12-10    People  Samsung Internet    10.0        10.0  1.000000   \n",
       "12  2022-12-10    People           Firefox     9.0        10.0  0.900000   \n",
       "13  2022-12-10    Robots           Firefox     1.0        10.0  0.100000   \n",
       "14  2022-12-10    People   Android Browser     1.0         2.0  0.500000   \n",
       "\n",
       "      percent  users  ratio_of_users_to_visits  \n",
       "0   27.872861   30.0                  0.263158  \n",
       "1   24.938875  240.0                  2.352941  \n",
       "2    1.222494  104.0                 20.800000  \n",
       "3   16.381418   44.0                  0.656716  \n",
       "4    0.733496    7.0                  2.333333  \n",
       "5    6.601467   17.0                  0.629630  \n",
       "6    3.178484   14.0                  1.076923  \n",
       "7    0.244499    1.0                  1.000000  \n",
       "8    2.933985   10.0                  0.833333  \n",
       "9    2.689487    4.0                  0.363636  \n",
       "10   0.733496    1.0                  0.333333  \n",
       "11   2.444988    8.0                  0.800000  \n",
       "12   2.200489   26.0                  2.888889  \n",
       "13   0.244499   29.0                 29.000000  \n",
       "14   0.244499    1.0                  1.000000  "
      ]
     },
     "execution_count": 84,
     "metadata": {},
     "output_type": "execute_result"
    }
   ],
   "source": [
    "visits_per_browser"
   ]
  },
  {
   "cell_type": "code",
   "execution_count": 86,
   "id": "6990276b",
   "metadata": {},
   "outputs": [
    {
     "data": {
      "text/plain": [
       "2    21.0\n",
       "Name: ratio_of_users_to_visits, dtype: float64"
      ]
     },
     "execution_count": 86,
     "metadata": {},
     "output_type": "execute_result"
    }
   ],
   "source": [
    "# Выясним, сколько визитов на уникального пользователя совершается ботами с браузера Google Chrome\n",
    "# и округлим до целого\n",
    "\n",
    "visits_per_browser \\\n",
    "                    .query('user_type == \"Robots\" and browser == \"Google Chrome\"') \\\n",
    "                    .ratio_of_users_to_visits \\\n",
    "                    .round()"
   ]
  },
  {
   "cell_type": "code",
   "execution_count": null,
   "id": "b901b460",
   "metadata": {},
   "outputs": [],
   "source": []
  }
 ],
 "metadata": {
  "kernelspec": {
   "display_name": "Python 3 (ipykernel)",
   "language": "python",
   "name": "python3"
  },
  "language_info": {
   "codemirror_mode": {
    "name": "ipython",
    "version": 3
   },
   "file_extension": ".py",
   "mimetype": "text/x-python",
   "name": "python",
   "nbconvert_exporter": "python",
   "pygments_lexer": "ipython3",
   "version": "3.9.12"
  }
 },
 "nbformat": 4,
 "nbformat_minor": 5
}
